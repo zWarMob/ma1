{
 "cells": [
  {
   "cell_type": "markdown",
   "metadata": {},
   "source": [
    "# Mandatory Assignment 1\n",
    "\n",
    "#### Part I: Multi-layer Perceptron\n",
    "\n",
    "***\n",
    "\n",
    "Please see the description of the assignment in the README file (section 1) <br>\n",
    "**Guide notebook**: [material/nns_pytorch.ipynb](material/nns_pytorch.ipynb)\n",
    "\n",
    "Table of contents:\n",
    "1. Activate GPU\n",
    "2. Load data\n",
    "3. Inspect data\n",
    "4. Artificial neural network (**Where you will implement the ANN**)\n",
    "5. Training hyperparameters (**Where you will add training parameters**)\n",
    "6. Training\n",
    "7. Plot loss and accuracy\n",
    "8. Evaluate\n"
   ]
  },
  {
   "cell_type": "code",
   "execution_count": 176,
   "metadata": {},
   "outputs": [],
   "source": [
    "# auxilary imports\n",
    "import random\n",
    "import matplotlib.pyplot as plt\n",
    "import os\n",
    "from pathlib import Path\n",
    "\n",
    "# pytorch\n",
    "import torch\n",
    "import torch.nn as nn\n",
    "from torchvision import transforms\n",
    "import torch.nn.functional as F  # noqa"
   ]
  },
  {
   "cell_type": "markdown",
   "metadata": {},
   "source": [
    "First, a bit of a hack in case your IDE wants to run the notebook from /`assignment/` and not the project root folder `/ma1`. We need the working directory to be `/ma1` for local imports to work."
   ]
  },
  {
   "cell_type": "code",
   "execution_count": 177,
   "metadata": {},
   "outputs": [
    {
     "name": "stdout",
     "output_type": "stream",
     "text": [
      "Working directory set to: /mnt/d/Studies/CBS - Electives/AI and ML/ma1\n"
     ]
    }
   ],
   "source": [
    "# Ensure the working directory is set to the \"ma1\" folder.\n",
    "while Path.cwd().name != \"ma1\" and \"ma1\" in str(Path.cwd()):\n",
    "    os.chdir(\"..\")  # Move up one directory\n",
    "print(f\"Working directory set to: {Path.cwd()}\")"
   ]
  },
  {
   "cell_type": "markdown",
   "metadata": {},
   "source": [
    "##### Import local files\n",
    "\n",
    "To declutter the notebooks, your are given a module (`/src`) of useful functions. Please study each one as they contain important code (particularly `src.training` and `src.evaluation`). "
   ]
  },
  {
   "cell_type": "code",
   "execution_count": 178,
   "metadata": {},
   "outputs": [],
   "source": [
    "# local files\n",
    "from src.utils import get_device\n",
    "from src.data import load_torch_data, to_dataloader, train_val_split\n",
    "from src.training import fit\n",
    "from src.evaluation import evaluate\n",
    "from src.visualize import plot_training_history"
   ]
  },
  {
   "cell_type": "markdown",
   "metadata": {},
   "source": [
    "### 1. Activate GPU\n",
    "If available. Note that this is not necessary, but it will speed up your training."
   ]
  },
  {
   "cell_type": "code",
   "execution_count": 179,
   "metadata": {},
   "outputs": [
    {
     "name": "stdout",
     "output_type": "stream",
     "text": [
      "Running pytorch version (2.5.1) with backend = cpu\n"
     ]
    }
   ],
   "source": [
    "# Device will determine whether to run the training on GPU or CPU.\n",
    "DEVICE = get_device()"
   ]
  },
  {
   "cell_type": "code",
   "execution_count": 180,
   "metadata": {},
   "outputs": [
    {
     "name": "stdout",
     "output_type": "stream",
     "text": [
      "No GPU available. Training will run on CPU.\n"
     ]
    }
   ],
   "source": [
    "import torch\n",
    "if torch.cuda.is_available():\n",
    "    print(f\"GPU: {torch.cuda.get_device_name(0)} is available.\")\n",
    "else:\n",
    "    print(\"No GPU available. Training will run on CPU.\")"
   ]
  },
  {
   "cell_type": "code",
   "execution_count": 181,
   "metadata": {},
   "outputs": [
    {
     "name": "stdout",
     "output_type": "stream",
     "text": [
      "cpu\n"
     ]
    }
   ],
   "source": [
    "device = torch.device(\"cuda\" if torch.cuda.is_available() else \"cpu\")\n",
    "print(device)"
   ]
  },
  {
   "cell_type": "markdown",
   "metadata": {},
   "source": [
    "### 2. Load data"
   ]
  },
  {
   "cell_type": "code",
   "execution_count": 182,
   "metadata": {},
   "outputs": [
    {
     "data": {
      "text/plain": [
       "'len(train_val)=60000, len(test)=10000'"
      ]
     },
     "execution_count": 182,
     "metadata": {},
     "output_type": "execute_result"
    }
   ],
   "source": [
    "# load the training/validation data\n",
    "train_val = load_torch_data(\n",
    "    dataset=\"MNIST\",\n",
    "    root = 'data',                     # The root directory where the dataset will be stored\n",
    "    download = True,                   # If the dataset is not found at root, it will be downloaded\n",
    "    train = True,                      # The train dataset (as opposed to the test dataset)\n",
    "    transform = transforms.ToTensor()  # transformations to be applied to the dataset (only cast to tensor)\n",
    ")\n",
    "\n",
    "# load the testing data\n",
    "test = load_torch_data(\n",
    "    dataset = \"MNIST\",\n",
    "    root = 'data',\n",
    "    download = True,\n",
    "    train = False,\n",
    "    transform = transforms.ToTensor()\n",
    ")\n",
    "\n",
    "f\"{len(train_val)=}, {len(test)=}\""
   ]
  },
  {
   "cell_type": "code",
   "execution_count": 183,
   "metadata": {},
   "outputs": [
    {
     "data": {
      "text/plain": [
       "'len(val)=12000, len(train)=48000'"
      ]
     },
     "execution_count": 183,
     "metadata": {},
     "output_type": "execute_result"
    }
   ],
   "source": [
    "# split training data in training and validation (just like train_test_split in sklearn)\n",
    "train, val = train_val_split(train_val, val_ratio=0.2, seed=42)\n",
    "\n",
    "f\"{len(val)=}, {len(train)=}\""
   ]
  },
  {
   "cell_type": "code",
   "execution_count": 184,
   "metadata": {},
   "outputs": [],
   "source": [
    "# create dataloders for easy batch loading during training\n",
    "train_loader = to_dataloader(train, batch_size = 64, shuffle = True)\n",
    "val_loader = to_dataloader(val, batch_size = 64, shuffle = False)\n",
    "test_loader = to_dataloader(test, batch_size = 64, shuffle = False)"
   ]
  },
  {
   "cell_type": "markdown",
   "metadata": {},
   "source": [
    "### 3. Inspect data"
   ]
  },
  {
   "cell_type": "code",
   "execution_count": 185,
   "metadata": {},
   "outputs": [
    {
     "name": "stdout",
     "output_type": "stream",
     "text": [
      "Default image shape: torch.Size([1, 28, 28])\n",
      "Reshaped image shape: torch.Size([28, 28])\n",
      "Total pixels: 784\n",
      "The label for this image: 5\n"
     ]
    },
    {
     "data": {
      "image/png": "[encoded data removed]",
      "text/plain": [
       "<Figure size 640x480 with 1 Axes>"
      ]
     },
     "metadata": {},
     "output_type": "display_data"
    }
   ],
   "source": [
    "# Pick a random example from the training set\n",
    "selection = random.randrange(len(train)-1)\n",
    "image, label = train[selection]\n",
    "\n",
    "# Plot the image\n",
    "print(f\"Default image shape: {image.shape}\")\n",
    "image = image.view([28,28])\n",
    "\n",
    "print(f\"Reshaped image shape: {image.shape}\")\n",
    "plt.imshow(image, cmap=\"gray\")\n",
    "\n",
    "print(f\"Total pixels: {image.shape[0] * image.shape[1]}\")\n",
    "\n",
    "# Print the label\n",
    "print(f\"The label for this image: {label}\")\n"
   ]
  },
  {
   "cell_type": "markdown",
   "metadata": {},
   "source": [
    "***\n",
    "\n",
    "### 4. Artificial neural network"
   ]
  },
  {
   "cell_type": "code",
   "execution_count": 204,
   "metadata": {},
   "outputs": [],
   "source": [
    "import math\n",
    "\n",
    "# Works with SGD optimizer, 0.05 step\n",
    "\n",
    "class MLP(nn.Module):\n",
    "\n",
    "  def __init__(self):\n",
    "    super().__init__()\n",
    "    # TODO: define layers\n",
    "    # Initial input = 28x28 pixels big ~ 784\n",
    "    # Last output = 10, we try to recognize 10 different digits\n",
    "    self.fc1 = nn.Linear(784, math.ceil(784/2))\n",
    "    self.fc2 = nn.Linear(math.ceil(784/2), math.ceil(784/4))\n",
    "    self.fc3 = nn.Linear(math.ceil(784/4),math.ceil(784/8)) \n",
    "    self.fc4 = nn.Linear(math.ceil(784/8),math.ceil(784/16)) \n",
    "    self.fc5 = nn.Linear(math.ceil(784/16),math.ceil(784/32)) \n",
    "    self.fc6 = nn.Linear(math.ceil(784/32),10) \n",
    "    self.relu = nn.ReLU()\n",
    "\n",
    "  def forward(self, x: torch.Tensor):\n",
    "    # TODO: define forward pass\n",
    "    x = self.fc1(x) # first pass where we convert our input into the first hidden layer\n",
    "    x = self.relu(x)  # ReLU\n",
    "    x = self.fc2(x)\n",
    "    x = self.relu(x)\n",
    "    x = self.fc3(x)\n",
    "    x = self.relu(x)\n",
    "    x = self.fc4(x)\n",
    "    x = self.relu(x)\n",
    "    x = self.fc5(x)\n",
    "    x = self.relu(x)\n",
    "    x = self.fc6(x)\n",
    "    \n",
    "    return x"
   ]
  },
  {
   "cell_type": "code",
   "execution_count": null,
   "metadata": {},
   "outputs": [],
   "source": [
    "import math\n",
    "\n",
    "# works with Adam optimizer, 0.001 step\n",
    "\n",
    "class MLP(nn.Module):\n",
    "\n",
    "  def __init__(self):\n",
    "    super().__init__()\n",
    "    # TODO: define layers\n",
    "    # Initial input = 28x28 pixels big ~ 784\n",
    "    # Last output = 10, we try to recognize 10 different digits\n",
    "    self.fc1 = nn.Linear(784, math.ceil(784/4))\n",
    "    self.fc2 = nn.Linear(math.ceil(784/4), math.ceil(784/16))\n",
    "    self.fc3 = nn.Linear(math.ceil(784/16),10) \n",
    "    self.relu = nn.ReLU()\n",
    "\n",
    "  def forward(self, x: torch.Tensor):\n",
    "    # TODO: define forward pass\n",
    "    x = self.fc1(x) # first pass where we convert our input into the first hidden layer\n",
    "    x = self.relu(x)  # ReLU\n",
    "    x = self.fc2(x)\n",
    "    x = self.relu(x)\n",
    "    x = self.fc3(x)\n",
    "    \n",
    "    return x"
   ]
  },
  {
   "cell_type": "markdown",
   "metadata": {},
   "source": [
    "### 5. Training hyperparameters"
   ]
  },
  {
   "cell_type": "code",
   "execution_count": 205,
   "metadata": {},
   "outputs": [],
   "source": [
    "LR = 0.001  # TODO: define the learning rate\n",
    "NUM_EPOCHS = 20 # TODO: define the number of epochs (i.e. passes over the dataset)\n",
    "criterion = nn.CrossEntropyLoss()  # The loss function"
   ]
  },
  {
   "cell_type": "markdown",
   "metadata": {},
   "source": [
    "Instantiate the model and optimizer"
   ]
  },
  {
   "cell_type": "code",
   "execution_count": 206,
   "metadata": {},
   "outputs": [],
   "source": [
    "model = MLP().to(DEVICE)   # Create an instance of the MLP model and move it to device (GPU or CPU)\n",
    "optimizer = torch.optim.AdamW(model.parameters(), lr=LR) # The optimizer (here, SGD - you can also try ADAM)"
   ]
  },
  {
   "cell_type": "code",
   "execution_count": 207,
   "metadata": {},
   "outputs": [
    {
     "data": {
      "text/plain": [
       "MLP(\n",
       "  (fc1): Linear(in_features=784, out_features=392, bias=True)\n",
       "  (fc2): Linear(in_features=392, out_features=196, bias=True)\n",
       "  (fc3): Linear(in_features=196, out_features=98, bias=True)\n",
       "  (fc4): Linear(in_features=98, out_features=49, bias=True)\n",
       "  (fc5): Linear(in_features=49, out_features=25, bias=True)\n",
       "  (fc6): Linear(in_features=25, out_features=10, bias=True)\n",
       "  (relu): ReLU()\n",
       ")"
      ]
     },
     "execution_count": 207,
     "metadata": {},
     "output_type": "execute_result"
    }
   ],
   "source": [
    "model"
   ]
  },
  {
   "cell_type": "markdown",
   "metadata": {},
   "source": [
    "### 6. Training"
   ]
  },
  {
   "cell_type": "code",
   "execution_count": 208,
   "metadata": {},
   "outputs": [
    {
     "name": "stdout",
     "output_type": "stream",
     "text": [
      "Epoch [1/20]: Train Loss: 0.4253 | Train Accuracy: 86.58% | Val Loss: 0.1795 | Val Accuracy: 94.58%\n",
      "Epoch [2/20]: Train Loss: 0.1378 | Train Accuracy: 95.77% | Val Loss: 0.1305 | Val Accuracy: 96.26%\n",
      "Epoch [3/20]: Train Loss: 0.0940 | Train Accuracy: 97.19% | Val Loss: 0.1316 | Val Accuracy: 95.99%\n",
      "Epoch [4/20]: Train Loss: 0.0686 | Train Accuracy: 97.96% | Val Loss: 0.1255 | Val Accuracy: 96.54%\n",
      "Epoch [5/20]: Train Loss: 0.0560 | Train Accuracy: 98.30% | Val Loss: 0.1104 | Val Accuracy: 97.06%\n",
      "Epoch [6/20]: Train Loss: 0.0450 | Train Accuracy: 98.63% | Val Loss: 0.1093 | Val Accuracy: 97.04%\n",
      "Epoch [7/20]: Train Loss: 0.0369 | Train Accuracy: 98.89% | Val Loss: 0.0981 | Val Accuracy: 97.13%\n",
      "Epoch [8/20]: Train Loss: 0.0322 | Train Accuracy: 98.99% | Val Loss: 0.1159 | Val Accuracy: 97.21%\n",
      "Epoch [9/20]: Train Loss: 0.0292 | Train Accuracy: 99.09% | Val Loss: 0.1022 | Val Accuracy: 97.47%\n",
      "Epoch [10/20]: Train Loss: 0.0234 | Train Accuracy: 99.27% | Val Loss: 0.1116 | Val Accuracy: 97.24%\n",
      "Epoch [11/20]: Train Loss: 0.0244 | Train Accuracy: 99.29% | Val Loss: 0.1049 | Val Accuracy: 97.67%\n",
      "Epoch [12/20]: Train Loss: 0.0203 | Train Accuracy: 99.38% | Val Loss: 0.1127 | Val Accuracy: 97.22%\n",
      "Epoch [13/20]: Train Loss: 0.0198 | Train Accuracy: 99.39% | Val Loss: 0.0996 | Val Accuracy: 97.66%\n",
      "Epoch [14/20]: Train Loss: 0.0170 | Train Accuracy: 99.47% | Val Loss: 0.1268 | Val Accuracy: 97.21%\n",
      "Epoch [15/20]: Train Loss: 0.0185 | Train Accuracy: 99.47% | Val Loss: 0.0968 | Val Accuracy: 97.67%\n",
      "Epoch [16/20]: Train Loss: 0.0124 | Train Accuracy: 99.59% | Val Loss: 0.1241 | Val Accuracy: 97.49%\n",
      "Epoch [17/20]: Train Loss: 0.0156 | Train Accuracy: 99.55% | Val Loss: 0.1102 | Val Accuracy: 97.67%\n",
      "Epoch [18/20]: Train Loss: 0.0138 | Train Accuracy: 99.56% | Val Loss: 0.1098 | Val Accuracy: 97.62%\n",
      "Epoch [19/20]: Train Loss: 0.0141 | Train Accuracy: 99.58% | Val Loss: 0.1037 | Val Accuracy: 97.68%\n",
      "Epoch [20/20]: Train Loss: 0.0131 | Train Accuracy: 99.62% | Val Loss: 0.1204 | Val Accuracy: 97.61%\n"
     ]
    }
   ],
   "source": [
    "model, history = fit(\n",
    "    model,\n",
    "    train_loader = train_loader,\n",
    "    val_loader = val_loader,\n",
    "    device = DEVICE,\n",
    "    optimizer = optimizer,\n",
    "    criterion = criterion,\n",
    "    num_epochs = NUM_EPOCHS\n",
    ")"
   ]
  },
  {
   "cell_type": "markdown",
   "metadata": {},
   "source": [
    "### 7. Plot loss and accuracy"
   ]
  },
  {
   "cell_type": "code",
   "execution_count": 209,
   "metadata": {},
   "outputs": [
    {
     "data": {
      "image/png": "[encoded data removed]",
      "text/plain": [
       "<Figure size 1200x600 with 2 Axes>"
      ]
     },
     "metadata": {},
     "output_type": "display_data"
    }
   ],
   "source": [
    "plot_training_history(history)"
   ]
  },
  {
   "cell_type": "markdown",
   "metadata": {},
   "source": [
    "### 8. Evaluate"
   ]
  },
  {
   "cell_type": "code",
   "execution_count": 210,
   "metadata": {},
   "outputs": [
    {
     "name": "stdout",
     "output_type": "stream",
     "text": [
      "Evaluation Results:\n",
      "Loss: 0.0086, Accuracy: 99.74%\n",
      "\n",
      "Classification Report:\n",
      "              precision    recall  f1-score   support\n",
      "\n",
      "           0       1.00      1.00      1.00      4735\n",
      "           1       1.00      1.00      1.00      5383\n",
      "           2       1.00      1.00      1.00      4762\n",
      "           3       1.00      1.00      1.00      4886\n",
      "           4       1.00      1.00      1.00      4681\n",
      "           5       1.00      0.99      1.00      4368\n",
      "           6       0.99      1.00      1.00      4752\n",
      "           7       1.00      1.00      1.00      4983\n",
      "           8       1.00      1.00      1.00      4674\n",
      "           9       0.99      1.00      1.00      4776\n",
      "\n",
      "    accuracy                           1.00     48000\n",
      "   macro avg       1.00      1.00      1.00     48000\n",
      "weighted avg       1.00      1.00      1.00     48000\n",
      "\n"
     ]
    }
   ],
   "source": [
    "evaluate(\n",
    "    model = model,\n",
    "    data_loader = train_loader,  # evaluate on training data\n",
    "    criterion = criterion,\n",
    "    device = DEVICE,\n",
    ")"
   ]
  },
  {
   "cell_type": "code",
   "execution_count": 211,
   "metadata": {},
   "outputs": [
    {
     "name": "stdout",
     "output_type": "stream",
     "text": [
      "Evaluation Results:\n",
      "Loss: 0.1204, Accuracy: 97.61%\n",
      "\n",
      "Classification Report:\n",
      "              precision    recall  f1-score   support\n",
      "\n",
      "           0       0.99      0.98      0.98      1188\n",
      "           1       0.99      0.99      0.99      1359\n",
      "           2       0.96      0.98      0.97      1196\n",
      "           3       0.98      0.97      0.98      1245\n",
      "           4       0.98      0.98      0.98      1161\n",
      "           5       0.99      0.96      0.97      1053\n",
      "           6       0.97      0.99      0.98      1166\n",
      "           7       0.99      0.98      0.98      1282\n",
      "           8       0.97      0.97      0.97      1177\n",
      "           9       0.96      0.97      0.96      1173\n",
      "\n",
      "    accuracy                           0.98     12000\n",
      "   macro avg       0.98      0.98      0.98     12000\n",
      "weighted avg       0.98      0.98      0.98     12000\n",
      "\n"
     ]
    }
   ],
   "source": [
    "evaluate(\n",
    "    model = model,\n",
    "    data_loader = val_loader,  # evaluate on validation data\n",
    "    criterion = criterion,\n",
    "    device = DEVICE,\n",
    ")"
   ]
  },
  {
   "cell_type": "code",
   "execution_count": 212,
   "metadata": {},
   "outputs": [
    {
     "name": "stdout",
     "output_type": "stream",
     "text": [
      "Evaluation Results:\n",
      "Loss: 0.1220, Accuracy: 97.77%\n",
      "\n",
      "Classification Report:\n",
      "              precision    recall  f1-score   support\n",
      "\n",
      "           0       0.99      0.99      0.99       980\n",
      "           1       0.99      0.99      0.99      1135\n",
      "           2       0.97      0.98      0.97      1032\n",
      "           3       0.98      0.98      0.98      1010\n",
      "           4       0.97      0.98      0.98       982\n",
      "           5       0.99      0.96      0.97       892\n",
      "           6       0.97      0.99      0.98       958\n",
      "           7       0.99      0.97      0.98      1028\n",
      "           8       0.97      0.96      0.97       974\n",
      "           9       0.97      0.97      0.97      1009\n",
      "\n",
      "    accuracy                           0.98     10000\n",
      "   macro avg       0.98      0.98      0.98     10000\n",
      "weighted avg       0.98      0.98      0.98     10000\n",
      "\n"
     ]
    }
   ],
   "source": [
    "evaluate(\n",
    "    model = model,\n",
    "    data_loader = test_loader,  # evaluate on testing data\n",
    "    criterion = criterion,\n",
    "    device = DEVICE,\n",
    ")"
   ]
  },
  {
   "cell_type": "code",
   "execution_count": null,
   "metadata": {},
   "outputs": [],
   "source": []
  }
 ],
 "metadata": {
  "kernelspec": {
   "display_name": "aiml25-ma1",
   "language": "python",
   "name": "python3"
  },
  "language_info": {
   "codemirror_mode": {
    "name": "ipython",
    "version": 3
   },
   "file_extension": ".py",
   "mimetype": "text/x-python",
   "name": "python",
   "nbconvert_exporter": "python",
   "pygments_lexer": "ipython3",
   "version": "3.13.2"
  }
 },
 "nbformat": 4,
 "nbformat_minor": 2
}
